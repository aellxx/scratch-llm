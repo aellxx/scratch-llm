{
 "cells": [
  {
   "cell_type": "markdown",
   "id": "f246421d",
   "metadata": {},
   "source": [
    "# Common Tensor Operations"
   ]
  },
  {
   "cell_type": "code",
   "execution_count": 2,
   "id": "2ca79b89",
   "metadata": {},
   "outputs": [],
   "source": [
    "import torch"
   ]
  },
  {
   "cell_type": "markdown",
   "id": "3fd63d28",
   "metadata": {},
   "source": [
    "### `.reshape()` & `.view()`"
   ]
  },
  {
   "cell_type": "markdown",
   "id": "641effbd",
   "metadata": {},
   "source": [
    "So far, we went over \n",
    "1. How to create a tensor using `torch.tensor()`\n",
    "2. How to see the dimensions of a tensor with `.shape`"
   ]
  },
  {
   "cell_type": "markdown",
   "id": "9e33556f",
   "metadata": {},
   "source": [
    "Another common operation is the `.reshape()` operation, which literally, reshapes a tensor into the dimension you want."
   ]
  },
  {
   "cell_type": "code",
   "execution_count": 3,
   "id": "3d5b676d",
   "metadata": {},
   "outputs": [
    {
     "name": "stdout",
     "output_type": "stream",
     "text": [
      "Before reshape: tensor([[1, 2, 3],\n",
      "        [4, 5, 6]])\n",
      "shape: torch.Size([2, 3])\n"
     ]
    }
   ],
   "source": [
    "before_reshape = torch.tensor([[1, 2, 3], [4, 5, 6]])\n",
    "print(f\"Before reshape: {before_reshape}\")\n",
    "print(f\"shape: {before_reshape.shape}\")"
   ]
  },
  {
   "cell_type": "code",
   "execution_count": 4,
   "id": "20d225b3",
   "metadata": {},
   "outputs": [
    {
     "name": "stdout",
     "output_type": "stream",
     "text": [
      "After reshape: tensor([[1, 2],\n",
      "        [3, 4],\n",
      "        [5, 6]])\n",
      "shape: torch.Size([3, 2])\n"
     ]
    }
   ],
   "source": [
    "after_reshape = before_reshape.reshape(3, 2)\n",
    "print(f\"After reshape: {after_reshape}\")\n",
    "print(f\"shape: {after_reshape.shape}\")"
   ]
  },
  {
   "cell_type": "markdown",
   "id": "2d277694",
   "metadata": {},
   "source": [
    "The only restriction with the `.reshape()` method is that the number of elements in the tensors need to match. "
   ]
  },
  {
   "cell_type": "code",
   "execution_count": 5,
   "id": "fe9bff70",
   "metadata": {},
   "outputs": [
    {
     "data": {
      "text/plain": [
       "torch.Size([2, 3])"
      ]
     },
     "execution_count": 5,
     "metadata": {},
     "output_type": "execute_result"
    }
   ],
   "source": [
    "before_reshape.size()"
   ]
  },
  {
   "cell_type": "markdown",
   "id": "4960e8b7",
   "metadata": {},
   "source": [
    "Since the `before_reshape` tensor has `2 * 3 = 6` numbers, the pair of numbers that go into `.reshape()` needs to equal `6` when they are multiplied. "
   ]
  },
  {
   "cell_type": "markdown",
   "id": "a2f1e053",
   "metadata": {},
   "source": [
    "The `view` operation essentially does the same thing: "
   ]
  },
  {
   "cell_type": "code",
   "execution_count": 6,
   "id": "5b349885",
   "metadata": {},
   "outputs": [
    {
     "data": {
      "text/plain": [
       "(tensor([[1, 2, 3],\n",
       "         [4, 5, 6]]),\n",
       " torch.Size([2, 3]))"
      ]
     },
     "execution_count": 6,
     "metadata": {},
     "output_type": "execute_result"
    }
   ],
   "source": [
    "tensor2d = torch.tensor([[1, 2, 3], [4, 5, 6]])\n",
    "tensor2d, tensor2d.shape"
   ]
  },
  {
   "cell_type": "code",
   "execution_count": 8,
   "id": "fca6c10f",
   "metadata": {},
   "outputs": [
    {
     "data": {
      "text/plain": [
       "tensor([[1, 2],\n",
       "        [3, 4],\n",
       "        [5, 6]])"
      ]
     },
     "execution_count": 8,
     "metadata": {},
     "output_type": "execute_result"
    }
   ],
   "source": [
    "tensor2d.view(3, 2)"
   ]
  },
  {
   "cell_type": "markdown",
   "id": "533f79c5",
   "metadata": {},
   "source": [
    "### Transpose with `.T`"
   ]
  },
  {
   "cell_type": "markdown",
   "id": "f2bf1ee9",
   "metadata": {},
   "source": [
    "To transpose a tensor, you can use `.T`"
   ]
  },
  {
   "cell_type": "code",
   "execution_count": 9,
   "id": "2594d7d1",
   "metadata": {},
   "outputs": [
    {
     "name": "stdout",
     "output_type": "stream",
     "text": [
      "Before transpose: tensor([[1, 2, 3],\n",
      "        [4, 5, 6]])\n",
      "shape: torch.Size([2, 3])\n"
     ]
    }
   ],
   "source": [
    "before_t = torch.tensor([[1, 2, 3], [4, 5, 6]])\n",
    "print(f\"Before transpose: {before_t}\")\n",
    "print(f\"shape: {before_t.shape}\")"
   ]
  },
  {
   "cell_type": "code",
   "execution_count": 10,
   "id": "6034c8ba",
   "metadata": {},
   "outputs": [
    {
     "name": "stdout",
     "output_type": "stream",
     "text": [
      "After transpose: tensor([[1, 4],\n",
      "        [2, 5],\n",
      "        [3, 6]])\n",
      "shape: torch.Size([3, 2])\n"
     ]
    }
   ],
   "source": [
    "after_t = before_t.T\n",
    "print(f\"After transpose: {after_t}\")\n",
    "print(f\"shape: {after_t.shape}\")"
   ]
  },
  {
   "cell_type": "markdown",
   "id": "2fb8ce8d",
   "metadata": {},
   "source": [
    "Note that transposing a tensor yields a different result from reshaping it. "
   ]
  },
  {
   "cell_type": "code",
   "execution_count": 11,
   "id": "24ceed4d",
   "metadata": {},
   "outputs": [
    {
     "name": "stdout",
     "output_type": "stream",
     "text": [
      "Reshaped tensor:\n",
      "tensor([[1, 2],\n",
      "        [3, 4],\n",
      "        [5, 6]])\n",
      "\n",
      "Transposed tensor:\n",
      "tensor([[1, 4],\n",
      "        [2, 5],\n",
      "        [3, 6]])\n"
     ]
    }
   ],
   "source": [
    "tensor2d = torch.tensor([[1, 2, 3], [4, 5, 6]])\n",
    "reshaped_tensor = tensor2d.reshape(3, 2)\n",
    "transposed_tensor = tensor2d.T\n",
    "print(f\"Reshaped tensor:\\n{reshaped_tensor}\\n\")\n",
    "print(f\"Transposed tensor:\\n{transposed_tensor}\")"
   ]
  },
  {
   "cell_type": "markdown",
   "id": "9a89f07a",
   "metadata": {},
   "source": [
    "## Matrix Multiplication with `matmul()`"
   ]
  },
  {
   "cell_type": "markdown",
   "id": "be3591c1",
   "metadata": {},
   "source": [
    "The `.matmul()` operation enables matrix multiplication. "
   ]
  },
  {
   "cell_type": "code",
   "execution_count": 17,
   "id": "f440b03d",
   "metadata": {},
   "outputs": [
    {
     "name": "stdout",
     "output_type": "stream",
     "text": [
      "t1:\n",
      "tensor([[1, 2, 3],\n",
      "        [4, 5, 6]])\n",
      "\n",
      "t2:\n",
      "tensor([[1, 4],\n",
      "        [2, 5],\n",
      "        [3, 6]])\n",
      "\n"
     ]
    }
   ],
   "source": [
    "t1 = torch.tensor([[1, 2, 3], [4, 5, 6]])\n",
    "t2 = t1.T\n",
    "print(f\"t1:\\n{t1}\\n\")\n",
    "print(f\"t2:\\n{t2}\\n\")\n"
   ]
  },
  {
   "cell_type": "code",
   "execution_count": 18,
   "id": "42e7140b",
   "metadata": {},
   "outputs": [
    {
     "name": "stdout",
     "output_type": "stream",
     "text": [
      "Result of matmul:\n",
      "tensor([[14, 32],\n",
      "        [32, 77]])\n",
      "\n",
      "Shape of result: torch.Size([2, 2])\n",
      "\n"
     ]
    }
   ],
   "source": [
    "res_matmul = t1.matmul(t2)\n",
    "print(f\"Result of matmul:\\n{res_matmul}\\n\")\n",
    "print(f\"Shape of result: {res_matmul.shape}\\n\")"
   ]
  },
  {
   "cell_type": "markdown",
   "id": "e2b076ea",
   "metadata": {},
   "source": [
    "The shape of the matrix multiplication is as expected: `[2 x 3]` * `[3 x 2]` = `[2 x 2]`"
   ]
  }
 ],
 "metadata": {
  "kernelspec": {
   "display_name": ".venv",
   "language": "python",
   "name": "python3"
  },
  "language_info": {
   "codemirror_mode": {
    "name": "ipython",
    "version": 3
   },
   "file_extension": ".py",
   "mimetype": "text/x-python",
   "name": "python",
   "nbconvert_exporter": "python",
   "pygments_lexer": "ipython3",
   "version": "3.12.11"
  }
 },
 "nbformat": 4,
 "nbformat_minor": 5
}
