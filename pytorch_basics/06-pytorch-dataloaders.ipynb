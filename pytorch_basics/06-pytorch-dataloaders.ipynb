{
 "cells": [
  {
   "cell_type": "markdown",
   "id": "921fec83",
   "metadata": {},
   "source": [
    "# Datasets and DataLoaders: Part 2"
   ]
  },
  {
   "cell_type": "markdown",
   "id": "869fbbda",
   "metadata": {},
   "source": [
    "## TL;DR"
   ]
  },
  {
   "cell_type": "markdown",
   "id": "366fbbd5",
   "metadata": {},
   "source": [
    "1. What is a `DataLoader`? \n",
    "\n",
    "> A `DataLoader` is a tool that goes through a dataset and gives you (or the model) the batches of the data for training or evaluation.\n",
    "\n",
    "2. What is the purpose of having a `DataLoader`? \n",
    ">  A `DataLoader` simplifies the process of batching, shuffling, and loading data in parallel, letting you focus on building and improving your model.\n",
    "\n",
    "3. Why do you need one? \n",
    "> Without a `DataLoader`, you’d have to *manually* slice your dataset into batches, shuffle it every epoch, and handle data loading. Therefore, a `DataLoader` makes training faster and less prone to errors, especially when working with large datasets."
   ]
  },
  {
   "cell_type": "markdown",
   "id": "690e8000",
   "metadata": {},
   "source": [
    "## Intro"
   ]
  },
  {
   "cell_type": "markdown",
   "id": "7b5183ea",
   "metadata": {},
   "source": [
    "This is part 2 of the **Datasets and DataLoaders** series, and here we'll be dealing with the `DataLoader` object in PyTorch. `DataLoaders` are closely tied to `Dataset`s, so some of the things I write here may not make sense if you don't have an understanding of `Dataset`s. \n",
    "\n",
    "But...\n",
    "\n",
    "As someone who doesn't like the chain of \"Oh to understand A I need to understand B, but even before that I need to learn C\" and ending up exhausted to even get started on learning something, I'll put the `ctrl+c ctrl+v` version of my TL;DR from part 1 of this series, which was about `Dataset`s."
   ]
  },
  {
   "cell_type": "markdown",
   "id": "9e2ccd05",
   "metadata": {},
   "source": [
    "1. What is a PyTorch `Dataset`?\n",
    "> a PyTorch `Dataset` is a class that knows **how many data samples it contains** and can **return a specific sample when you ask for it by its index**. Both the way it determines the total number of samples and the way it retrieves an individual sample are **fully customizable**.\n",
    "\n",
    "2. What's the purpose of a PyTorch `Dataset`?\n",
    "> The purpose of a `Dataset` object is to define a way of accessessing your data during model training. \n",
    "\n",
    "3. Why should you care? \n",
    ">By defining a way to access your data and return the size of your data, the `Dataset` object allows you to train a model on any data source (images, CSV files, audio, etc.) just by changing the Dataset implementation. "
   ]
  },
  {
   "cell_type": "markdown",
   "id": "7e0c7add",
   "metadata": {},
   "source": [
    "Now if you want *examples* of how the `Dataset` object works, *then* you should probably\n",
    "\n",
    "start doing some searches,<br>\n",
    "talk with ChatGPT, Claude, Gemini, whatever suites your style,<br>\n",
    "or read my last post. "
   ]
  },
  {
   "cell_type": "markdown",
   "id": "5445e214",
   "metadata": {},
   "source": [
    "## So What is it?"
   ]
  },
  {
   "cell_type": "markdown",
   "id": "8af67639",
   "metadata": {},
   "source": [
    "So let's take a look at how PyTorch defines `DataLoader`s (taken directly from the [official documentation](https://docs.pytorch.org/docs/stable/data.html))\n",
    "\n",
    "> At the heart of PyTorch data loading utility is the torch.utils.data.DataLoader class. It represents a Python iterable over a dataset...\n",
    "\n",
    "From this definition it seems like a `DataLoader` is:\n",
    "1. A data loading utility\n",
    "2. A representation of a Python iterable over a dataset\n",
    "\n",
    "Now even as someone working as a SWE and has a CS degree, that didn't, and still doesn't, immediately click, so I'll do what I do best and get nitpicky about the definition. "
   ]
  },
  {
   "cell_type": "markdown",
   "id": "1e560d61",
   "metadata": {},
   "source": [
    "### Data loading utility"
   ]
  },
  {
   "cell_type": "markdown",
   "id": "5cdabb4b",
   "metadata": {},
   "source": [
    "When I see something defined as a \"utility\" when reading technical documentation, I swap out that word with \"tool\" or \"helper,\" since these words speak clearer to my brain. Therefore, I interpret the first part of the definition above as: \n",
    "\n",
    "> At the heart of all the tools that PyTorch provides to help you load your data is the `torch.utils.data.DataLoader` class. \n",
    "\n",
    "Now here, you may be asking: What's data loading? \n",
    "\n",
    "In the context of machine learning, data loading is the process of taking your training data from where ever it is stored and feeding it into your model. Based on this extra piece of information, if we unravel the sentence once more: \n",
    "\n",
    "> At the heart of all the tools that PyTorch provides to help move your data from where it lives to your model, is the `torch.utils.data.DataLoader` class. \n",
    "\n",
    "Let's clean that sentence up a bit, and we get: \n",
    "> A PyTorch `DataLoader` is a tool that takes your dataset and delivers it to your model for you."
   ]
  },
  {
   "cell_type": "markdown",
   "id": "36801d29",
   "metadata": {},
   "source": [
    "Now, I think the definition above captures the core essense of what a `DataLoader` does, but what *really* makes it a useful tool is that it will automate some things for you, that are important when it comes to training machine learning models or deep neural networks. I'll come back to this real soon in the next section, after we define what it means for a `DataLoader` to be a \"representation of a Python iterable.\""
   ]
  },
  {
   "cell_type": "markdown",
   "id": "a1c5de1e",
   "metadata": {},
   "source": [
    "### Iterable over a dataset"
   ]
  },
  {
   "cell_type": "markdown",
   "id": "80cd6ecd",
   "metadata": {},
   "source": [
    "In the context of programming, an iterable is something that has 0 or more items, in which you can go through each item one by one. A good example of an iterable in Python is a `list`. "
   ]
  },
  {
   "cell_type": "code",
   "execution_count": 1,
   "id": "610e1723",
   "metadata": {},
   "outputs": [
    {
     "name": "stdout",
     "output_type": "stream",
     "text": [
      "1 2 3 4 5 "
     ]
    }
   ],
   "source": [
    "iterable_list = [1, 2, 3, 4, 5]\n",
    "\n",
    "for item in iterable_list: \n",
    "    print(item, end=\" \")"
   ]
  },
  {
   "cell_type": "markdown",
   "id": "63b4c450",
   "metadata": {},
   "source": [
    "At least in the context of this notebook, I'd say it's safe to think that an iterable is *a sequence of items you can go through*. \n",
    "\n",
    "So, what does it mean for a `DataLoader` to be a representation of an \"*iterable* over a dataset\"? It means you can use `DataLoader`s to process (i.e. go through) your dataset, item by item. \n",
    "\n",
    "Here, you may ask, \"What is the *item*\" in the dataset? And here's where I think a side tangent about the concept of *batches* is helpful. However, if you'd rather move on, totally feel free to gloss over the next section and move on. "
   ]
  },
  {
   "cell_type": "markdown",
   "id": "901fc85f",
   "metadata": {},
   "source": [
    "#### Batches"
   ]
  },
  {
   "cell_type": "markdown",
   "id": "1ee44ccb",
   "metadata": {},
   "source": [
    "**TL;DR**: A batch is a small portion of the dataset given to the model at once — it makes training faster, and more efficient, on large datasets."
   ]
  },
  {
   "cell_type": "markdown",
   "id": "78433697",
   "metadata": {},
   "source": [
    "Picture this: \n",
    "\n",
    "You just took your favorite cookie recipe and made a batch. It's now time to bake the cookies. Would it be faster to bake the cookies one by one, or to put several of them on a pan and into the oven at once?\n",
    "\n",
    "The second way, probably -- right? \n",
    "\n",
    "So let's apply this analogy to training models. \n",
    "\n",
    "Instead of feeding your model 1 data point at a time (like baking one cookie), it's more efficient to group multiple data points together into a *batch* (like a tray of cookies). This way the model can processes more data in one go, which makes training faster and more efficient. \n",
    "\n",
    "<div align=\"center\">\n",
    "  <img src=\"./assets/cookie-batch.jpeg\" width=\"600\"/>\n",
    "</div>"
   ]
  },
  {
   "cell_type": "markdown",
   "id": "5cedb1ee",
   "metadata": {},
   "source": [
    "So why does this matter for AI models?  \n",
    "\n",
    "As I just mentioned, *speed* is one factor, but definitely not the only one. Batching helps the model learn in a more *stable* way: if the model updated itself after every single data point, it would swing back and forth depending on the quirks of a single example. On the other hand, updating on a set of data at once, the model evens out each data point's quirks and instad learns the overarching patterns that better represent the entire dataset. On top of that, batching makes *better use of your computer's hardware*, so training is both faster and more efficient overall."
   ]
  },
  {
   "cell_type": "markdown",
   "id": "cecb54e1",
   "metadata": {},
   "source": [
    "To connect this back to the \"`DataLoader` as an iterable\" idea: a `DataLoader` is like a sequence that hands you a single batch of your data at a time."
   ]
  },
  {
   "cell_type": "markdown",
   "id": "87d42b99",
   "metadata": {},
   "source": [
    "## Coming back to the definition..."
   ]
  },
  {
   "cell_type": "markdown",
   "id": "1cc6ee36",
   "metadata": {},
   "source": [
    "Revisiting what PyTorch says about its `DataLoader` class: \n",
    "> At the heart of PyTorch data loading utility is the torch.utils.data.DataLoader class. It represents a Python iterable over a dataset...\n",
    "\n",
    "I'll give you **my version** of the definition:\n",
    "> A `DataLoader` is a tool that goes through a dataset and gives you (or the model) the batches of the data for training or evaluation."
   ]
  },
  {
   "cell_type": "markdown",
   "id": "3bb19e20",
   "metadata": {},
   "source": [
    "## Code example (finally)"
   ]
  },
  {
   "cell_type": "code",
   "execution_count": 2,
   "id": "65e73581",
   "metadata": {},
   "outputs": [],
   "source": [
    "import torch\n",
    "from torch.utils.data import Dataset, DataLoader"
   ]
  },
  {
   "cell_type": "markdown",
   "id": "3c5cf5d7",
   "metadata": {},
   "source": [
    "Enough said, let's see how `DataLoaders` work in code. To see this, I'll define a simple `Dataset` object with 7 entries, with 2 features each. The lable will be either `0` or `1` (think binary classification)."
   ]
  },
  {
   "cell_type": "code",
   "execution_count": 3,
   "id": "3df92593",
   "metadata": {},
   "outputs": [],
   "source": [
    "# Define a simple dataset class\n",
    "class SimpleDataset(Dataset):\n",
    "    def __init__(self, features, labels):\n",
    "        self.features = features\n",
    "        self.labels = labels\n",
    "\n",
    "    def __len__(self):\n",
    "        return len(self.features)\n",
    "\n",
    "    def __getitem__(self, idx):\n",
    "        \"\"\"\n",
    "        Returns a single feature-label pair given an index\n",
    "        \"\"\"\n",
    "        return self.features[idx], self.labels[idx]"
   ]
  },
  {
   "cell_type": "code",
   "execution_count": 4,
   "id": "48feb949",
   "metadata": {},
   "outputs": [],
   "source": [
    "train_features = torch.randn(7, 2)  # 7 samples, 2 features each\n",
    "train_labels = torch.randint(0, 2, (7,)) # Random binary labels\n",
    "\n",
    "simple_ds = SimpleDataset(train_features, train_labels)"
   ]
  },
  {
   "cell_type": "markdown",
   "id": "9e33a7e1",
   "metadata": {},
   "source": [
    "Now let's create a wrapper around the dataset, i.e. the `DataLoader`, so it can portion the dataset into batches and iterate over each batch: "
   ]
  },
  {
   "cell_type": "code",
   "execution_count": 5,
   "id": "5e54bfaa",
   "metadata": {},
   "outputs": [],
   "source": [
    "torch.manual_seed(42)\n",
    "\n",
    "simple_dl = DataLoader(simple_ds, batch_size=2, shuffle=True, num_workers=0)"
   ]
  },
  {
   "cell_type": "code",
   "execution_count": 6,
   "id": "bb414f64",
   "metadata": {},
   "outputs": [
    {
     "name": "stdout",
     "output_type": "stream",
     "text": [
      "Batch 0:\n",
      "Features: tensor([[ 1.8124, -0.6329],\n",
      "        [ 0.7750,  0.6713]])\n",
      "Labels: tensor([0, 1])\n",
      "--------------------\n",
      "Batch 1:\n",
      "Features: tensor([[ 0.5636, -0.0708],\n",
      "        [-0.6745, -0.6745]])\n",
      "Labels: tensor([0, 0])\n",
      "--------------------\n",
      "Batch 2:\n",
      "Features: tensor([[-1.0933,  0.0823],\n",
      "        [ 0.6239, -0.6483]])\n",
      "Labels: tensor([1, 1])\n",
      "--------------------\n",
      "Batch 3:\n",
      "Features: tensor([[0.6015, 0.2808]])\n",
      "Labels: tensor([0])\n",
      "--------------------\n"
     ]
    }
   ],
   "source": [
    "# iterate over the DataLoader\n",
    "for idx, (feature, label) in enumerate(simple_dl):\n",
    "    print(f\"Batch {idx}:\")\n",
    "    print(f\"Features: {feature}\")\n",
    "    print(f\"Labels: {label}\")\n",
    "    print(\"-\" * 20)"
   ]
  },
  {
   "cell_type": "markdown",
   "id": "1a3377b4",
   "metadata": {},
   "source": [
    "## A Couple Things"
   ]
  },
  {
   "cell_type": "markdown",
   "id": "3b2c34b7",
   "metadata": {},
   "source": [
    "### 1. Epochs?"
   ]
  },
  {
   "cell_type": "markdown",
   "id": "0a3f5f5d",
   "metadata": {},
   "source": [
    "This is a term worth knowing, since it's going to show up a lot in the context of model training (and in the next section). An *epoch*, also called a *training epoch*, is one full pass through all the training data. If we apply this to the above example, going through all 4 batches would complete 1 epoch. In practice, models are trained for multiple epochs, so the model sees the same data multiple times and better learns the patterns. "
   ]
  },
  {
   "cell_type": "markdown",
   "id": "6e61121e",
   "metadata": {},
   "source": [
    "### 2. Extra Arguments? `shuffle` & `num_workers`"
   ]
  },
  {
   "cell_type": "markdown",
   "id": "22ec037f",
   "metadata": {},
   "source": [
    "You might be wondering about the arguments I passed into the simple `DataLoader`, especially `shuffle` and `num_workers`. The `shuffle` argument literally shuffles the order of the dataset at the start of each training epoch (told you this term will come up) so that the model doesn’t get biased by seeing similar or related examples grouped together. "
   ]
  },
  {
   "cell_type": "markdown",
   "id": "13cbe67f",
   "metadata": {},
   "source": [
    "<div align=\"center\">\n",
    "  <img src=\"./assets/batch-shuffle-epoch.jpeg\" width=\"600\"/>\n",
    "  <div style=\"font-size: 0.95em; color: #555; margin-top: 4px;\">\n",
    "    <em>Figure: Each epoch shuffles and batches the data differently. The dataset has 3 images of cats, 3 images of bears, and 3 images of lions</em>\n",
    "  </div>\n",
    "</div>"
   ]
  },
  {
   "cell_type": "markdown",
   "id": "370ecfed",
   "metadata": {},
   "source": [
    "The `num_workers` argument sets how many background helper processes to use for data loading. Using more workers allows data to be loaded and prepared in parallel at the same time the model is training, which helps to run the overall training process more efficiently."
   ]
  },
  {
   "cell_type": "markdown",
   "id": "7e52a9fe",
   "metadata": {},
   "source": [
    "<div align=\"center\">\n",
    "  <img src=\"./assets/num-workers.jpeg\" width=\"500\"/>\n",
    "  <div style=\"font-size: 0.95em; color: #555; margin-top: 4px;\">\n",
    "    <em>Comparison of setting num_workers to 0 vs. a value greater than 0</em>\n",
    "  </div>\n",
    "</div>"
   ]
  },
  {
   "cell_type": "markdown",
   "id": "fdf1a6ae",
   "metadata": {},
   "source": [
    "# To Wrap Everything Up..."
   ]
  },
  {
   "cell_type": "markdown",
   "id": "c1780f32",
   "metadata": {},
   "source": [
    "Given I have the TL;DR up at the top, I won't bore you with a super long conclusion, or possibly confuse you by restating something in a different way (which happens to me all the time). But I do hope this two-part series of PyTorch's `Dataset` and `DataLoader` objects helped you understand what they are and how we use them without having to memorize definitions and forgetting 3 years later (like me). \n",
    "\n",
    "Until next time,<br>\n",
    "Ael"
   ]
  },
  {
   "cell_type": "markdown",
   "id": "21a76779",
   "metadata": {},
   "source": []
  }
 ],
 "metadata": {
  "kernelspec": {
   "display_name": ".venv",
   "language": "python",
   "name": "python3"
  },
  "language_info": {
   "codemirror_mode": {
    "name": "ipython",
    "version": 3
   },
   "file_extension": ".py",
   "mimetype": "text/x-python",
   "name": "python",
   "nbconvert_exporter": "python",
   "pygments_lexer": "ipython3",
   "version": "3.12.11"
  }
 },
 "nbformat": 4,
 "nbformat_minor": 5
}
