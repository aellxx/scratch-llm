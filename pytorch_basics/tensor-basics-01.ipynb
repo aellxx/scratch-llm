{
 "cells": [
  {
   "cell_type": "markdown",
   "id": "fb228d96",
   "metadata": {},
   "source": [
    "# PyTorch Tensor Basics"
   ]
  },
  {
   "cell_type": "markdown",
   "id": "c7e62959",
   "metadata": {},
   "source": [
    "Install PyTorch and Torchvision"
   ]
  },
  {
   "cell_type": "code",
   "execution_count": 2,
   "id": "310757d4",
   "metadata": {},
   "outputs": [],
   "source": [
    "!pip3 install torch torchvision -Uq\n"
   ]
  },
  {
   "cell_type": "code",
   "execution_count": 3,
   "id": "2a84c539",
   "metadata": {},
   "outputs": [],
   "source": [
    "import torch"
   ]
  },
  {
   "cell_type": "markdown",
   "id": "5fdc092f",
   "metadata": {},
   "source": [
    "Check if compatible with Apple Silicon"
   ]
  },
  {
   "cell_type": "code",
   "execution_count": 6,
   "id": "9923e61d",
   "metadata": {},
   "outputs": [
    {
     "name": "stdout",
     "output_type": "stream",
     "text": [
      "Is PyTorch compatible with Apple Silicon M1/M2 chip? True\n"
     ]
    }
   ],
   "source": [
    "is_mchip_compatible = torch.backends.mps.is_available()\n",
    "print(f\"Is PyTorch compatible with Apple Silicon M1/M2 chip? {is_mchip_compatible}\")"
   ]
  },
  {
   "cell_type": "markdown",
   "id": "636acd2c",
   "metadata": {},
   "source": [
    "A tensor is a representation of a 0-dimensional, 1-dimensional, or multi-dimensional array of numbers. 0-dimensional tensors can be referred to as *scalars*, which simply means the tensor is a singular number. "
   ]
  },
  {
   "cell_type": "markdown",
   "id": "e064d521",
   "metadata": {},
   "source": [
    "A scalar in PyTorch can be initialized by passing in a single integer or float to `torch.tensor`. You can check the zero-dimensionality by checking the `shape` attribute of the tensor, which will tell you the dimensions of the tensor. "
   ]
  },
  {
   "cell_type": "code",
   "execution_count": null,
   "id": "faa9dc2e",
   "metadata": {},
   "outputs": [
    {
     "data": {
      "text/plain": [
       "(tensor(1), torch.Size([]))"
      ]
     },
     "execution_count": 9,
     "metadata": {},
     "output_type": "execute_result"
    }
   ],
   "source": [
    "scalar = torch.tensor(1)\n",
    "scalar, scalar.shape"
   ]
  },
  {
   "cell_type": "markdown",
   "id": "2d97bdae",
   "metadata": {},
   "source": [
    "Here's an example of a 1D tensor, which will just look like a list of numbers."
   ]
  },
  {
   "cell_type": "code",
   "execution_count": 10,
   "id": "7ad2b750",
   "metadata": {},
   "outputs": [
    {
     "data": {
      "text/plain": [
       "(tensor([1, 2, 3]), torch.Size([3]))"
      ]
     },
     "execution_count": 10,
     "metadata": {},
     "output_type": "execute_result"
    }
   ],
   "source": [
    "tensor_1d = torch.tensor([1, 2, 3])\n",
    "tensor_1d, tensor_1d.shape\n"
   ]
  },
  {
   "cell_type": "markdown",
   "id": "4608a5c9",
   "metadata": {},
   "source": [
    "You'll notice that the 1D tensor's shape is `[3]`, which you can think of as 1 row, 3 columns, with the `1` part excluded. 1D tensors are referred to as *vectors*. "
   ]
  },
  {
   "cell_type": "code",
   "execution_count": 11,
   "id": "955c7307",
   "metadata": {},
   "outputs": [
    {
     "data": {
      "text/plain": [
       "(tensor([[1, 2, 3],\n",
       "         [4, 5, 6]]),\n",
       " torch.Size([2, 3]))"
      ]
     },
     "execution_count": 11,
     "metadata": {},
     "output_type": "execute_result"
    }
   ],
   "source": [
    "tensor_2d = torch.tensor([[1, 2, 3], [4, 5, 6]])\n",
    "tensor_2d, tensor_2d.shape"
   ]
  },
  {
   "cell_type": "markdown",
   "id": "d21e6b1e",
   "metadata": {},
   "source": [
    "Looking above at a 2D tensor -- also called a *matrix* -- the `shape` attribute shows that the tensor has 2 \"rows\" and 3 \"columns\". "
   ]
  },
  {
   "cell_type": "markdown",
   "id": "ab405901",
   "metadata": {},
   "source": [
    "At this point it becomes clear that:\n",
    "1. displaying the tensor itself shows the tensor & its contents\n",
    "2. displaying the `shape` of the tensor shows how many \"rows\" and \"columns\" your tensor has"
   ]
  },
  {
   "cell_type": "markdown",
   "id": "b5366b8d",
   "metadata": {},
   "source": [
    "There aren't specific terms for tensors that go beyond 3D, so it's safe to say we can refer to them as multi-dimensional tensors, or `n`D-tensors, with `n` being whatever dimension the tensor is. "
   ]
  },
  {
   "cell_type": "code",
   "execution_count": 12,
   "id": "09296a5a",
   "metadata": {},
   "outputs": [
    {
     "data": {
      "text/plain": [
       "(tensor([[[1, 2],\n",
       "          [3, 4]],\n",
       " \n",
       "         [[5, 6],\n",
       "          [7, 8]]]),\n",
       " torch.Size([2, 2, 2]))"
      ]
     },
     "execution_count": 12,
     "metadata": {},
     "output_type": "execute_result"
    }
   ],
   "source": [
    "tensor_3d = torch.tensor([[[1, 2], [3, 4]], [[5, 6], [7, 8]]])\n",
    "tensor_3d, tensor_3d.shape"
   ]
  }
 ],
 "metadata": {
  "kernelspec": {
   "display_name": ".venv",
   "language": "python",
   "name": "python3"
  },
  "language_info": {
   "codemirror_mode": {
    "name": "ipython",
    "version": 3
   },
   "file_extension": ".py",
   "mimetype": "text/x-python",
   "name": "python",
   "nbconvert_exporter": "python",
   "pygments_lexer": "ipython3",
   "version": "3.12.11"
  }
 },
 "nbformat": 4,
 "nbformat_minor": 5
}
