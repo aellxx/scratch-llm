{
 "cells": [
  {
   "cell_type": "markdown",
   "id": "322d606d",
   "metadata": {},
   "source": [
    "# Datasets and DataLoaders: Part 1"
   ]
  },
  {
   "cell_type": "markdown",
   "id": "8025e2fa",
   "metadata": {},
   "source": [
    "## TL;DR\n",
    "1. What is a PyTorch `Dataset`?\n",
    "> a PyTorch `Dataset` is a class that knows **how many data samples it contains** and can **return a specific sample when you ask for it by its index**. Both the way it determines the total number of samples and the way it retrieves an individual sample are **fully customizable**.\n",
    "\n",
    "2. What's the purpose of a PyTorch `Dataset`?\n",
    "> The purpose of a `Dataset` object is to define a way of accessessing your data during model training. \n",
    "\n",
    "3. Why should you care? \n",
    ">By defining a way to access your data and return the size of your data, the `Dataset` object allows you to train a model on any data source (images, CSV files, audio, etc.) just by changing the Dataset implementation. "
   ]
  },
  {
   "cell_type": "markdown",
   "id": "cf8aeca1",
   "metadata": {},
   "source": [
    "## Intro"
   ]
  },
  {
   "cell_type": "markdown",
   "id": "1ce09c98",
   "metadata": {},
   "source": [
    "My first encounter with the PyTorch `Dataset` and `DataLoader` objects was 3 years ago, when I was going through PyTorch recipes and HuggingFace tutorials for the first time. I'll admit I tended to follow tutorials rather blindly, which led to never really understanding how PyTorch worked. \n",
    "\n",
    "Fast forward 3 years, here I am trying to relearn everything from the ground up. While I was going through some PyTorch basics I inevitably came across the `Dataset` and `DataLoader`s section, and the confusion was still there. This time, I tried articulating my confusion into some questions that I can focus on while learning about the two data-related objects in PyTorch. \n",
    "\n",
    "In this notebook, the first of the two-part series, I'll address my questions about the `Dataset` object as listed in the TL;DR: \n",
    "1. What is a PyTorch `Dataset`?\n",
    "2. What's the purpose of a PyTorch `Dataset`?\n",
    "3. Why should you care? \n"
   ]
  },
  {
   "cell_type": "code",
   "execution_count": 1,
   "id": "f8ef9a78",
   "metadata": {},
   "outputs": [],
   "source": [
    "import os\n",
    "from PIL import Image\n",
    "import torch\n",
    "from torch.utils.data import Dataset\n",
    "import torchvision.transforms as transforms"
   ]
  },
  {
   "cell_type": "markdown",
   "id": "ec6d9ba0",
   "metadata": {},
   "source": [
    "## `Dataset` Objects"
   ]
  },
  {
   "cell_type": "markdown",
   "id": "a8ee5b7f",
   "metadata": {},
   "source": [
    "Here's the [definition of a `Dataset` from PyTorch](https://docs.pytorch.org/docs/stable/data.html#torch.utils.data.Dataset): \n",
    "\n",
    "> All datasets that represent a map from keys to data samples should subclass it. All subclasses should overwrite `__getitem__()`, supporting fetching a data sample for a given key. Subclasses could also optionally overwrite `__len__()`, which is expected to return the size of the dataset by many Sampler implementations and the default options of DataLoader. Subclasses could also optionally implement `__getitems__()`, for speedup batched samples loading. This method accepts list of indices of samples of batch and returns list of samples."
   ]
  },
  {
   "cell_type": "markdown",
   "id": "bccdba2a",
   "metadata": {},
   "source": [
    "Sorry PyTorch, this didn't make any sense to me.\n",
    "\n",
    "Here were my initial confusions: \n",
    "- What does the definition mean by \"represent a map from keys to data samples\"?\n",
    "- How do I explain what this is without bringing in the concept of a DataLoader? \n",
    "- I think the problem is that when I hear \"Dataset\", I imagine a table in a relational database\n",
    "\n",
    "So let's unpack this.\n",
    "\n",
    "First, when you hear \"dataset,\" a table with rows and columns instantly pops up in your head, try ignoring that. Instead, think of a Python list and how you'd access its elements."
   ]
  },
  {
   "cell_type": "code",
   "execution_count": 2,
   "id": "d0c91dae",
   "metadata": {},
   "outputs": [],
   "source": [
    "my_cats = [\"Brie\", \"Chip\"]"
   ]
  },
  {
   "cell_type": "markdown",
   "id": "12ec1901",
   "metadata": {},
   "source": [
    "What do you do if you want to access `\"Brie\"`?"
   ]
  },
  {
   "cell_type": "code",
   "execution_count": 3,
   "id": "fc0643e3",
   "metadata": {},
   "outputs": [
    {
     "data": {
      "text/plain": [
       "'Brie'"
      ]
     },
     "execution_count": 3,
     "metadata": {},
     "output_type": "execute_result"
    }
   ],
   "source": [
    "my_cats[0] # This will return \"Brie\""
   ]
  },
  {
   "cell_type": "markdown",
   "id": "c8a8513a",
   "metadata": {},
   "source": [
    "Well... How did I know how to access \"Brie\"?\n",
    "\n",
    "Because a Python list returns a the value at a given index position. It's a predefined rule: you give it the index position, and the list gives you the element at that position.\n",
    "\n",
    "Now I want you to take this exact idea into understanding PyTorch's `Dataset` class. \n",
    "Think of it as something that creates a list-like object. It is a class you write, where you define the rules to fetch **one entry** from your data, given an index.\n",
    "\n",
    "Put it simply: \n",
    "- `Dataset` index => list index\n",
    "- `Dataset` entry => the value at the index\n",
    "\n",
    "Here's an example of a `Dataset` class definition that reflects the `my_cats` list: "
   ]
  },
  {
   "cell_type": "code",
   "execution_count": 4,
   "id": "84b25e21",
   "metadata": {},
   "outputs": [
    {
     "name": "stdout",
     "output_type": "stream",
     "text": [
      "Cat #1: Brie\n",
      "Cat #2: Chip\n"
     ]
    }
   ],
   "source": [
    "class MyCatsDataset(Dataset): \n",
    "    def __init__(self):\n",
    "        self.data = [\"Brie\", \"Chip\"]  # My cats' names\n",
    "    \n",
    "    def __len__(self):\n",
    "        return len(self.data)  \n",
    "    \n",
    "    def __getitem__(self, idx):\n",
    "        cat = self.data[idx]\n",
    "        return cat\n",
    "    \n",
    "my_cats_ds = MyCatsDataset()\n",
    "\n",
    "for i in range(len(my_cats_ds)):\n",
    "    print(f\"Cat #{i+1}: {my_cats_ds[i]}\")  "
   ]
  },
  {
   "cell_type": "markdown",
   "id": "1871232b",
   "metadata": {},
   "source": [
    "As you can see in the code block above:\n",
    "- `__init__`: I defined the data -- a list of my cats' names\n",
    "- `__len__`: A method to define how many items are in your data\n",
    "- `__getitem__`: A method that defines how you want to be able to fetch your data\n",
    "\n",
    "So, essentially, a PyTorch `Dataset` is a class that knows **how many data samples it contains** and can **return a specific sample when you ask for it by its index**. Both the way it determines the total number of samples and the way it retrieves an individual sample are **fully customizable**.\n",
    "\n",
    "At the end of the day, it's just another wrapper around your raw data that tells PyTorch \"Here's how you should access my data, and how you can figure out its size/shape.\" Without a dataset, PyTorch wouldn’t know how to get your data or what shape it’s in — it’s the foundation."
   ]
  },
  {
   "cell_type": "markdown",
   "id": "6d86dade",
   "metadata": {},
   "source": [
    "### Perhaps a more practical use case of defining a `Dataset` object"
   ]
  },
  {
   "cell_type": "markdown",
   "id": "5df54c8f",
   "metadata": {},
   "source": [
    "...would be if you have some unstructured data.\n",
    "\n",
    "Say you're building an image classifier. You would probably need some images to train your model with, but you can't just use the image as is to train your model, right? \n",
    "This is where `Dataset`s come in. By defining and initializing a `Dataset` object, we can define custom rules to how the model will process the image data. "
   ]
  },
  {
   "cell_type": "code",
   "execution_count": 5,
   "id": "fe4a48d0",
   "metadata": {},
   "outputs": [],
   "source": [
    "class CatsAndLionsDataset(Dataset):\n",
    "    def __init__(self, root_dir):\n",
    "        self.root_dir = root_dir\n",
    "        self.classes = ['cats', 'lions']\n",
    "        self.image_paths = [] # List to store image paths\n",
    "        self.labels = []\n",
    "\n",
    "        # Go through each class folder\n",
    "        for label, class_name in enumerate(self.classes):\n",
    "            class_folder = os.path.join(root_dir, class_name)\n",
    "            for file in os.listdir(class_folder):\n",
    "                self.image_paths.append(os.path.join(class_folder, file))\n",
    "                self.labels.append(label)\n",
    "\n",
    "        # Transform images into tensors\n",
    "        self.transform = transforms.Compose([\n",
    "            transforms.Resize((128, 160)),\n",
    "            transforms.ToTensor()\n",
    "        ])\n",
    "\n",
    "    def __len__(self):\n",
    "        return len(self.image_paths)\n",
    "\n",
    "    def __getitem__(self, idx):\n",
    "        img_path = self.image_paths[idx]\n",
    "        label = self.labels[idx]\n",
    "\n",
    "        image = Image.open(img_path).convert(\"RGB\")\n",
    "        image = self.transform(image)\n",
    "\n",
    "        return image, label"
   ]
  },
  {
   "cell_type": "code",
   "execution_count": 6,
   "id": "0c1f7453",
   "metadata": {},
   "outputs": [
    {
     "data": {
      "text/plain": [
       "<__main__.CatsAndLionsDataset at 0x1180d48c0>"
      ]
     },
     "execution_count": 6,
     "metadata": {},
     "output_type": "execute_result"
    }
   ],
   "source": [
    "cats_and_lions_ds = CatsAndLionsDataset(root_dir=\"image_data\") # this directory contains 4 images in total, 2 of cats and 2 of lions\n",
    "cats_and_lions_ds "
   ]
  },
  {
   "cell_type": "markdown",
   "id": "a7bb2791",
   "metadata": {},
   "source": [
    "So what is this `CatsAndLionsDataset` doing? \n",
    "\n",
    "Remember what I said about Dataset objects allowing you to define: \n",
    "1. How your data is accessed, given an index position (e.g. What data is at index position 0?)\n",
    "2. The length/size of your dataset (i.e. how many \"entries\" of data you have)\n",
    "\n",
    "So let's take a look at the length first, since that's more straight-forward."
   ]
  },
  {
   "cell_type": "code",
   "execution_count": 7,
   "id": "d905983a",
   "metadata": {},
   "outputs": [
    {
     "data": {
      "text/plain": [
       "4"
      ]
     },
     "execution_count": 7,
     "metadata": {},
     "output_type": "execute_result"
    }
   ],
   "source": [
    "len(cats_and_lions_ds)"
   ]
  },
  {
   "cell_type": "markdown",
   "id": "86bbfc9b",
   "metadata": {},
   "source": [
    "Makes sense, since I have 2 images of cats and 2 images of lions. \n",
    "\n",
    "Now what about the first element in the `Dataset`?"
   ]
  },
  {
   "cell_type": "code",
   "execution_count": 8,
   "id": "37b9b63a",
   "metadata": {},
   "outputs": [
    {
     "name": "stdout",
     "output_type": "stream",
     "text": [
      "Data at index position 0: (tensor([[[0.2000, 0.2078, 0.2157,  ..., 0.1804, 0.2039, 0.2275],\n",
      "         [0.2353, 0.2353, 0.2392,  ..., 0.1804, 0.2039, 0.2275],\n",
      "         [0.2431, 0.2431, 0.2431,  ..., 0.1843, 0.2078, 0.2314],\n",
      "         ...,\n",
      "         [0.2863, 0.3020, 0.3098,  ..., 0.3922, 0.4314, 0.4941],\n",
      "         [0.2235, 0.2353, 0.2745,  ..., 0.2157, 0.2824, 0.3608],\n",
      "         [0.2627, 0.2667, 0.2980,  ..., 0.2784, 0.3176, 0.3098]],\n",
      "\n",
      "        [[0.2353, 0.2510, 0.2667,  ..., 0.1725, 0.1882, 0.2039],\n",
      "         [0.2706, 0.2824, 0.2902,  ..., 0.1765, 0.1961, 0.2078],\n",
      "         [0.2902, 0.2941, 0.3020,  ..., 0.1765, 0.1961, 0.2078],\n",
      "         ...,\n",
      "         [0.3294, 0.3294, 0.3137,  ..., 0.4353, 0.4863, 0.5608],\n",
      "         [0.2196, 0.2196, 0.2549,  ..., 0.2392, 0.3176, 0.4039],\n",
      "         [0.2353, 0.2510, 0.3255,  ..., 0.3059, 0.3412, 0.3333]],\n",
      "\n",
      "        [[0.2118, 0.2235, 0.2353,  ..., 0.1216, 0.1412, 0.1569],\n",
      "         [0.2392, 0.2471, 0.2549,  ..., 0.1255, 0.1451, 0.1608],\n",
      "         [0.2549, 0.2588, 0.2627,  ..., 0.1294, 0.1490, 0.1647],\n",
      "         ...,\n",
      "         [0.1647, 0.1882, 0.2000,  ..., 0.5176, 0.5804, 0.6745],\n",
      "         [0.1961, 0.2118, 0.2627,  ..., 0.2745, 0.3725, 0.4980],\n",
      "         [0.2431, 0.2745, 0.3765,  ..., 0.3843, 0.4353, 0.4314]]]), 0)\n",
      "Length of data at index position 0: 2\n"
     ]
    }
   ],
   "source": [
    "print(f\"Data at index position 0: {cats_and_lions_ds[0]}\")\n",
    "print(f\"Length of data at index position 0: {len(cats_and_lions_ds[0])}\")"
   ]
  },
  {
   "cell_type": "markdown",
   "id": "622d7e03",
   "metadata": {},
   "source": [
    "As you can see, the data contains a tensor-ized version of the image (i.e. a numerical representation of the image), and the label. In this case, the blob of numbers you see represent one of the cat pictures I have, and the label `0` stands for the label `cat` (refer back to the class definition)."
   ]
  },
  {
   "cell_type": "markdown",
   "id": "2ff96472",
   "metadata": {},
   "source": [
    "## So why does this matter? "
   ]
  },
  {
   "cell_type": "markdown",
   "id": "1dcf2435",
   "metadata": {},
   "source": [
    "Think of creating a `Dataset` object as the data-prep stage. You have some data (e.g. a bunch of image files), and you need to turn it into a format that you can use to train some kind of machine/deep learning model. By defining a way to access your data and return the size of your data, the `Dataset` object allows you to train a model on any data source (images, CSV files, audio, etc.) just by changing the Dataset implementation. \n",
    "\n",
    "The reason why this class matters might make more sense once we dive into `DataLoaders`, which will be the second part to this series.\n",
    "\n",
    "Until then, \n",
    "Ael"
   ]
  }
 ],
 "metadata": {
  "kernelspec": {
   "display_name": ".venv",
   "language": "python",
   "name": "python3"
  },
  "language_info": {
   "codemirror_mode": {
    "name": "ipython",
    "version": 3
   },
   "file_extension": ".py",
   "mimetype": "text/x-python",
   "name": "python",
   "nbconvert_exporter": "python",
   "pygments_lexer": "ipython3",
   "version": "3.12.11"
  }
 },
 "nbformat": 4,
 "nbformat_minor": 5
}
